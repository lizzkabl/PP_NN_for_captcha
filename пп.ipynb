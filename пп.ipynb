{
 "cells": [
  {
   "cell_type": "markdown",
   "metadata": {
    "id": "QlWeO8Bahf4h"
   },
   "source": [
    "# либы"
   ]
  },
  {
   "cell_type": "code",
   "execution_count": 1,
   "metadata": {
    "colab": {
     "base_uri": "https://localhost:8080/"
    },
    "id": "Ul5-L7cmw11R",
    "outputId": "c1161212-970e-4f3c-9ab1-92b501fe44d8"
   },
   "outputs": [
    {
     "name": "stdout",
     "output_type": "stream",
     "text": [
      "Version of Torch : 2.0.0+cpu\n",
      "Version of TorchVision : 0.15.0+cpu\n"
     ]
    }
   ],
   "source": [
    "import matplotlib.pyplot as plt\n",
    "import numpy as np\n",
    "from os import path\n",
    "from imageio.v2 import imread\n",
    "from torch.utils.data import Dataset\n",
    "import torch\n",
    "import torch.nn as nn\n",
    "from torch.autograd import Variable\n",
    "import torchvision\n",
    "from torch.optim import *\n",
    "from torch.utils.data import Dataset\n",
    "from torch.utils.data import DataLoader\n",
    "from torchvision import transforms\n",
    "import torch.nn.functional as F\n",
    "\n",
    "\n",
    "from lion_pytorch import Lion\n",
    "import math\n",
    "import time\n",
    "import numpy as np\n",
    "from PIL import Image\n",
    "import cv2\n",
    "import numpy as np\n",
    "import albumentations\n",
    "import albumentations.pytorch\n",
    "from matplotlib import pyplot as plt\n",
    "import matplotlib.animation as animation\n",
    "from matplotlib import font_manager, rc\n",
    "from IPython import display\n",
    "import random\n",
    "import glob\n",
    "import os\n",
    "from os import listdir\n",
    "from os.path import isfile, join\n",
    "import warnings\n",
    "import sys\n",
    "from tqdm import tqdm\n",
    "import pickle\n",
    "import gc\n",
    "import random\n",
    "import urllib.request\n",
    "\n",
    "warnings.filterwarnings(\"ignore\")\n",
    "\n",
    "print(\"Version of Torch : {0}\".format(torch.__version__))\n",
    "print(\"Version of TorchVision : {0}\".format(torchvision.__version__))"
   ]
  },
  {
   "cell_type": "markdown",
   "metadata": {
    "id": "4IO3HrCoilwu"
   },
   "source": [
    "# функции для обработки+ начальные параметры"
   ]
  },
  {
   "cell_type": "code",
   "execution_count": 3,
   "metadata": {
    "colab": {
     "base_uri": "https://localhost:8080/"
    },
    "id": "mCAqpZXUrPBC",
    "outputId": "a828b11b-1e4f-4070-dbd0-e9e2c5498bad"
   },
   "outputs": [
    {
     "name": "stdout",
     "output_type": "stream",
     "text": [
      "Device : CPU\n"
     ]
    }
   ],
   "source": [
    "DATASET_PATH = [r\"C:\\Users\\user\\Desktop\\data\"]\n",
    "\n",
    "import os\n",
    "\n",
    "# Device\n",
    "USE_CUDA = torch.cuda.is_available()\n",
    "\n",
    "print(\"Device : {0}\".format(\"GPU\" if USE_CUDA else \"CPU\"))\n",
    "device = torch.device(\"cuda\" if USE_CUDA else \"cpu\")\n",
    "cpu_device = torch.device(\"cpu\")\n",
    "\n",
    "# Train\n",
    "EPOCHS = 6\n",
    "BATCH_SIZE = 20\n",
    "START_EPOCH = 1\n",
    "\n",
    "lr = 0.0001\n",
    "\n",
    "IMAGE_SIZE = 256\n",
    "MAX_LEN = 10\n",
    "\n",
    "transformer = transforms.Compose([transforms.ToTensor(),#обработка: 256*256 и нормализация изображения\n",
    "                                  torchvision.transforms.Resize((IMAGE_SIZE,IMAGE_SIZE)),\n",
    "                                  transforms.Normalize((0.5, 0.5, 0.5), (0.5, 0.5, 0.5)),\n",
    "                                 ])\n",
    "\n"
   ]
  },
  {
   "cell_type": "code",
   "execution_count": 4,
   "metadata": {
    "id": "t_PgCuDuwyuN"
   },
   "outputs": [],
   "source": [
    "def torch_tensor_to_plt(img):\n",
    "    img = img.detach().numpy()[0]\n",
    "    img = np.transpose(img, (1, 2, 0))\n",
    "    return img\n",
    "\n",
    "def get_image(file: str) -> np.ndarray: #возвращает матрицу из пикселей\n",
    "\n",
    "\n",
    "    img_file = path.expanduser(file)\n",
    "    image = imread(img_file)\n",
    "\n",
    "    return image\n",
    "\n",
    "def show(matrix: np.ndarray, colored=False) -> None: #показывает фото\n",
    "\n",
    "    cmap = plt.get_cmap('viridis') if colored else plt.get_cmap('gray')\n",
    "\n",
    "    plt.axis('off')\n",
    "    plt.imshow(matrix, cmap=cmap)\n",
    "    plt.show()\n",
    "\n",
    "def rgba_to_rgb(matrix):#rgba image to rgb\n",
    "    rows, cols, _ = matrix.shape\n",
    "    new_matrix = np.zeros((rows, cols, 3), dtype=int)\n",
    "\n",
    "    color_range = 255 if np.max(matrix) > 1 else 1 # maximum value of color\n",
    "\n",
    "    for i in range(rows):\n",
    "        for j in range(cols):\n",
    "            k = matrix[i][j][3] / color_range\n",
    "            new_matrix[i][j] = [\n",
    "                matrix[i][j][0] * k,\n",
    "                matrix[i][j][1] * k,\n",
    "                matrix[i][j][2] * k,\n",
    "            ]\n",
    "\n",
    "    return new_matrix\n",
    "\n",
    "def image_to_black_and_white(matrix): #rgb to black and while\n",
    "\n",
    "\n",
    "    rows, cols, _ = matrix.shape\n",
    "    new_matrix = np.zeros(matrix.shape[:2], dtype=int)\n",
    "    print(new_matrix)\n",
    "\n",
    "    for i in range(rows):\n",
    "        for j in range(cols):\n",
    "            new_matrix[i][j] = (min(matrix[i][j]) + max(matrix[i][j])) / 2\n",
    "\n",
    "    return new_matrix\n",
    "\n",
    "def image_normalization(matrix): #нормализация (0, 1)\n",
    "\n",
    "    if np.max(matrix) > 1:\n",
    "        return matrix / 255\n",
    "\n",
    "    return matrix\n",
    "\n",
    "def image_noise_reduction(matrix): #убирает шумы\n",
    "\n",
    "    matrix = image_normalization(matrix)\n",
    "\n",
    "    return (matrix + 1) / 2\n",
    "\n",
    "def image_to_mask(matrix, k): # convert b/w image to binary colored mask\n",
    "\n",
    "    matrix = image_normalization(matrix)\n",
    "\n",
    "    rows, cols = matrix.shape\n",
    "    new_matrix = np.zeros(matrix.shape, dtype=float)\n",
    "\n",
    "    for i in range(rows):\n",
    "        for j in range(cols):\n",
    "            new_matrix[i][j] = 1 if matrix[i][j] >= k else 0\n",
    "\n",
    "    return new_matrix\n",
    "\n",
    "def transform(image, k): #применение всех функций\n",
    "\n",
    "\n",
    "    if image.shape[2] == 4:\n",
    "        image = rgba_to_rgb(image)\n",
    "\n",
    "    image = image_to_black_and_white(image)\n",
    "\n",
    "    image = image_normalization(image)\n",
    "\n",
    "    image = image_noise_reduction(image)\n",
    "\n",
    "    image = image_to_mask(image, k)\n",
    "\n",
    "    return image"
   ]
  },
  {
   "cell_type": "code",
   "execution_count": 5,
   "metadata": {
    "id": "mp-Idoi1otNb"
   },
   "outputs": [],
   "source": [
    "special_char_list = [\"<pad>\"] # [\"<unk>\", \"<pad>\"]\n",
    "num_list = ['0', '1', '2', '3', '4', '5', '6', '7', '8', '9']\n",
    "upper_alphabet_list = ['A', 'B', 'C', 'D', 'E', 'F', 'G', 'H', 'I', 'J', 'K', 'L', 'M', 'N', 'O', 'P', 'Q', 'R', 'S', 'T', 'U', 'V', 'W', 'X', 'Y', 'Z']\n",
    "lower_alphabet_list = ['a', 'b', 'c', 'd', 'e', 'f', 'g', 'h', 'i', 'j', 'k', 'l', 'm', 'n', 'o', 'p', 'q', 'r', 's', 't', 'u', 'v', 'w', 'x', 'y', 'z']\n",
    "\n",
    "string_list = special_char_list + num_list + upper_alphabet_list + lower_alphabet_list\n",
    "CHAR_NUM = len(string_list)\n",
    "\n",
    "token_dictionary = {i : string_list[i] for i in range(len(string_list))}\n",
    "reversed_token_dictionary = {v: k for k, v in token_dictionary.items()}\n",
    "\n",
    "#токенизация и замена переменных на цифры"
   ]
  },
  {
   "cell_type": "markdown",
   "metadata": {
    "id": "eC8A4tQol0j3"
   },
   "source": [
    "# класс датасет"
   ]
  },
  {
   "cell_type": "code",
   "execution_count": 14,
   "metadata": {
    "id": "j0XnBZXFzmyK"
   },
   "outputs": [],
   "source": [
    "#создание класса дататсет\n",
    "class ImageToTextDataset(Dataset):\n",
    "    def __init__(self, path, transform=None):\n",
    "        self.path = path\n",
    "\n",
    "        self.transformer = transform\n",
    "\n",
    "        self.file = []\n",
    "        if os.name == 'nt':    #check if windows \n",
    "            a='\\\\'\n",
    "        else:\n",
    "            a='/'\n",
    "\n",
    "\n",
    "        m=0\n",
    "        for dirpath, _, filenames in os.walk(r\"C:\\Users\\user\\Desktop\\data\"):\n",
    "            for i in filenames:\n",
    "                m+=1\n",
    "                if m<=1000 :\n",
    "                    self.file.append(r\"C:\\Users\\user\\Desktop\\data\"+a+i)\n",
    "                if m==10000 :\n",
    "                    break\n",
    "\n",
    "        \n",
    "        self.num = len(self.file)\n",
    "\n",
    "\n",
    "    def __len__(self):\n",
    "        return self.num\n",
    "\n",
    "    def transform(self, image):\n",
    "        if self.transformer!=None:\n",
    "            return self.transformer(image)\n",
    "        else :\n",
    "            return image\n",
    "\n",
    "    def __getitem__(self, idx):\n",
    "        filename = self.file[idx]\n",
    "\n",
    "        Y = []\n",
    "        if os.name == 'nt':    \n",
    "            a='\\\\'\n",
    "        else:\n",
    "            a='/'\n",
    "        for char in list(filename.split(a)[-1].split(\".\")[0]):\n",
    "            Y.append(reversed_token_dictionary[char])\n",
    "\n",
    "        if len(Y) < MAX_LEN:\n",
    "            Y += [reversed_token_dictionary[\"<pad>\"]]*(MAX_LEN-len(Y))\n",
    "\n",
    "        img = cv2.imread(self.file[idx])\n",
    "        try:\n",
    "            sketch_image = cv2.cvtColor(img[:,:256,:], cv2.COLOR_BGR2RGB)\n",
    "        except:\n",
    "            print(self.file[idx])\n",
    "        X = self.transform(sketch_image)\n",
    "\n",
    "        Y_tensor_list = []\n",
    "        for y_ind in Y:\n",
    "            y_tensor = torch.zeros(CHAR_NUM)\n",
    "            y_tensor[y_ind] = 1\n",
    "            Y_tensor_list.append(y_tensor.unsqueeze(0))\n",
    "\n",
    "        return X, torch.tensor(Y), torch.tensor(Y)"
   ]
  },
  {
   "cell_type": "code",
   "execution_count": 15,
   "metadata": {
    "id": "DVpbvOQVr0Lt"
   },
   "outputs": [],
   "source": [
    "data1=ImageToTextDataset(DATASET_PATH,  transform=transformer)\n",
    "data2=ImageToTextDataset(DATASET_PATH,  transform=transformer)"
   ]
  },
  {
   "cell_type": "code",
   "execution_count": 16,
   "metadata": {
    "id": "Q_OQtLTtqRgR"
   },
   "outputs": [],
   "source": [
    "train_dataloader = DataLoader(data1, batch_size=BATCH_SIZE, shuffle=True)\n",
    "test_dataloader = DataLoader(data2, batch_size=BATCH_SIZE, shuffle=True)"
   ]
  },
  {
   "cell_type": "markdown",
   "metadata": {
    "id": "kXKMjl6wmW4X"
   },
   "source": [
    "# нейросеть lacc и функции к ней"
   ]
  },
  {
   "cell_type": "code",
   "execution_count": 17,
   "metadata": {
    "id": "GhB-rXcqruR2"
   },
   "outputs": [],
   "source": [
    "class LACC(nn.Module):\n",
    "    def __init__(self):\n",
    "        super().__init__()\n",
    "        self.encoder = torchvision.models.efficientnet_v2_m().features\n",
    "        self.converter = nn.parameter.Parameter(torch.ones(64, CHAR_NUM))\n",
    "\n",
    "        self.silu = nn.SiLU()\n",
    "        self.linear1 = nn.Linear(1280, 512)\n",
    "        self.linear2 = nn.Linear(512, 64)\n",
    "        self.linear3 = nn.Linear(64, MAX_LEN)\n",
    "\n",
    "\n",
    "    def forward(self, x):\n",
    "        feature = self.encoder(x)\n",
    "        #print(feature.shape)\n",
    "        feature = torch.flatten(feature, start_dim=2)\n",
    "        #print(feature.shape)\n",
    "        feature = torch.matmul(feature, self.converter)\n",
    "\n",
    "        y = feature.transpose(-1, -2)\n",
    "        y = self.linear1(y)\n",
    "        y = self.silu(y)\n",
    "        y = self.linear2(y)\n",
    "        y = self.silu(y)\n",
    "        y = self.linear3(y)\n",
    "#silu https://paperswithcode.com/method/silu\n",
    "# 3 линейных слоя и сигмоидная функция активации\n",
    "        return y"
   ]
  },
  {
   "cell_type": "code",
   "execution_count": 18,
   "metadata": {
    "id": "PghZIas5sPya"
   },
   "outputs": [],
   "source": [
    "model = LACC().to(device)"
   ]
  },
  {
   "cell_type": "code",
   "execution_count": 19,
   "metadata": {
    "id": "LmpC8B0isTwQ"
   },
   "outputs": [],
   "source": [
    "optimizer = Lion(model.parameters(), lr=lr, weight_decay=1e-2) #оптимизатор lion https://github.com/lucidrains/lion-pytorch\n",
    "criterion = nn.CrossEntropyLoss() #cross entropy -функция потерь\n",
    "\n",
    "def calculate_loss(predict, y):\n",
    "    return criterion(predict, y)\n",
    "\n",
    "\n",
    "def getSimilar(list1, list2):\n",
    "    correct = 0\n",
    "    for item1, item2 in zip(list1, list2):\n",
    "        if item1==item2:\n",
    "            correct += 1\n",
    "    return correct\n",
    "\n",
    "def getCorrect(list1, list2):\n",
    "    if ''.join(map(str,list1))==''.join(map(str,list2)):\n",
    "        return 1\n",
    "    else :\n",
    "        return 0\n",
    "\n",
    "def evalSample(model, x, target, batch=0):\n",
    "    def replaceSpeicalToken(text):\n",
    "        text = text.replace('<pad>','□')\n",
    "        text = text.replace('<unk>','?')\n",
    "        return text\n",
    "\n",
    "    x, target = x.to(device), target.to(device)\n",
    "    model.eval()\n",
    "\n",
    "    predict = model(x[batch].unsqueeze(0))\n",
    "    predict = F.log_softmax(predict, dim=-2)\n",
    "    predict = torch.argmax(predict, dim=-2)\n",
    "\n",
    "    predict_text = \"\"\n",
    "    for token in predict[0].to(cpu_device).tolist():\n",
    "\n",
    "        predict_text += str(token_dictionary[token])\n",
    "\n",
    "    target_text = \"\"\n",
    "    for token in target[0].to(cpu_device).tolist():\n",
    "        target_text += str(token_dictionary[token])\n",
    "\n",
    "    predict_text = replaceSpeicalToken(predict_text)\n",
    "    target_text = replaceSpeicalToken(target_text)\n",
    "\n",
    "\n",
    "    return predict_text, target_text\n",
    "\n",
    "def train_one_epoch(model, optimizer, train_dataloader, test_dataloader, epoch=None):\n",
    "    train_loss = 0.0\n",
    "    test_loss = 0.0\n",
    "    accurate = 0.0\n",
    "    hard_accurate = 0.0\n",
    "\n",
    "    # Training\n",
    "    model.train()\n",
    "    for x, y, label_target in train_dataloader:\n",
    "        x, y = x.to(device), y.to(device)\n",
    "\n",
    "        model.zero_grad()\n",
    "\n",
    "        predict = model(x)\n",
    "        predict = F.log_softmax(predict, dim=-2)\n",
    "        predict_text = torch.argmax(predict, dim=-2)\n",
    "\n",
    "        loss = calculate_loss(predict, y)\n",
    "\n",
    "\n",
    "        loss.backward()\n",
    "        optimizer.step()\n",
    "\n",
    "        train_loss += loss.item()\n",
    "    train_loss /= len(train_dataloader)\n",
    "\n",
    "    # Testing\n",
    "    model.eval()\n",
    "\n",
    "    for x, y, target in test_dataloader:\n",
    "        x, y, target = x.to(device), y.to(device), target.to(device)\n",
    "\n",
    "        predict = model(x)\n",
    "        predict = F.log_softmax(predict, dim=-2)\n",
    "\n",
    "        loss = calculate_loss(predict, y)\n",
    "\n",
    "        predict = torch.argmax(predict, dim=-2)\n",
    "\n",
    "        for predict_item, y_item in zip(predict, target):\n",
    "            accurate += getSimilar(predict_item, y_item)/(MAX_LEN*BATCH_SIZE)\n",
    "            hard_accurate += getCorrect(predict_item, y_item)/(BATCH_SIZE)\n",
    "\n",
    "        test_loss += loss.item()\n",
    "\n",
    "    test_loss /= len(test_dataloader)\n",
    "    accurate /= len(test_dataloader)\n",
    "    hard_accurate /= len(test_dataloader)\n",
    "\n",
    "    if epoch != None:\n",
    "        print(f\"[Epoch {epoch}] Train Loss : {train_loss} & Test Loss : {test_loss} & Accurate : {accurate*100}% & Hard-Accurate : {hard_accurate*100}%\")\n",
    "\n",
    "    return train_loss, test_loss\n"
   ]
  },
  {
   "cell_type": "code",
   "execution_count": 20,
   "metadata": {
    "id": "c07LCd7RtFGL"
   },
   "outputs": [
    {
     "name": "stdout",
     "output_type": "stream",
     "text": [
      "2023-10-13 19:41:41.178000\n",
      "[Epoch 1] Train Loss : 3.811303663253784 & Test Loss : 4.110454072952271 & Accurate : 44.129999999999484% & Hard-Accurate : 0.0%\n",
      "1 2023-10-13 19:54:50.877981\n",
      "[Epoch 2] Train Loss : 2.4740831518173216 & Test Loss : 2.3432908487319946 & Accurate : 44.99999999999943% & Hard-Accurate : 0.0%\n",
      "2 2023-10-13 20:07:13.208386\n",
      "[Epoch 3] Train Loss : 2.2068182706832884 & Test Loss : 2.2465588998794557 & Accurate : 45.579999999999416% & Hard-Accurate : 0.0%\n",
      "3 2023-10-13 20:19:31.265690\n",
      "[Epoch 4] Train Loss : 2.1511176443099975 & Test Loss : 3.052733278274536 & Accurate : 44.999999999999446% & Hard-Accurate : 0.0%\n",
      "4 2023-10-13 20:31:14.163999\n",
      "[Epoch 5] Train Loss : 2.1389508628845215 & Test Loss : 2.2232115364074705 & Accurate : 44.379999999999434% & Hard-Accurate : 0.0%\n",
      "5 2023-10-13 20:42:53.880901\n",
      "[Epoch 6] Train Loss : 2.1217529153823853 & Test Loss : 3.1139130115509035 & Accurate : 43.36999999999944% & Hard-Accurate : 0.0%\n",
      "6 2023-10-13 20:54:25.064368\n"
     ]
    }
   ],
   "source": [
    "train_loss_list = []\n",
    "test_loss_list = []\n",
    "from datetime import datetime\n",
    "print(datetime.now())\n",
    "for epoch in range(START_EPOCH, START_EPOCH+EPOCHS):\n",
    "    train_loss, test_loss = train_one_epoch(model, optimizer, train_dataloader, test_dataloader, epoch=epoch)\n",
    "    print(epoch, datetime.now())\n",
    "    train_loss_list.append(train_loss)\n",
    "    test_loss_list.append(test_loss)"
   ]
  },
  {
   "cell_type": "code",
   "execution_count": 21,
   "metadata": {
    "colab": {
     "base_uri": "https://localhost:8080/",
     "height": 452
    },
    "id": "14T0aexawyv2",
    "outputId": "ae3bd0b5-15d9-43b1-aa82-e76e9f62cd36"
   },
   "outputs": [
    {
     "data": {
      "image/png": "[encoded data removed]",
      "text/plain": [
       "<Figure size 640x480 with 1 Axes>"
      ]
     },
     "metadata": {},
     "output_type": "display_data"
    }
   ],
   "source": [
    "x = np.array(list(range(START_EPOCH, START_EPOCH+EPOCHS)))\n",
    "plt.plot(x, np.array(train_loss_list),label='train')\n",
    "plt.plot(x, np.array(test_loss_list),label='test')\n",
    "plt.xlim([1, EPOCHS])\n",
    "plt.title(f\"Loss of IRT\")\n",
    "plt.legend(loc='upper right')\n",
    "plt.show()"
   ]
  },
  {
   "cell_type": "code",
   "execution_count": 22,
   "metadata": {
    "id": "ZRUjKI_nw2Cp"
   },
   "outputs": [],
   "source": [
    "torch.save({\n",
    "            'epoch': START_EPOCH+EPOCHS-1,\n",
    "            'model_state_dict': model.state_dict(),\n",
    "            'optimizer_state_dict': optimizer.state_dict(),\n",
    "            }, 'Checkpoint.pth')"
   ]
  },
  {
   "cell_type": "markdown",
   "metadata": {
    "id": "q5bRZY4Mye8f"
   },
   "source": [
    "# тестирование"
   ]
  },
  {
   "cell_type": "code",
   "execution_count": 23,
   "metadata": {
    "colab": {
     "base_uri": "https://localhost:8080/"
    },
    "id": "QQH9Dr-hxDEM",
    "outputId": "f86e4734-031b-43e7-cf1c-a5f03a2f169d"
   },
   "outputs": [
    {
     "name": "stdout",
     "output_type": "stream",
     "text": [
      "predict_text target_text\n",
      "□mmmmm□□□□ 2FqSgZ□□□□\n",
      "226m66□□□□ 21AS79□□□□\n",
      "□Mmmmm□□□□ 431Upz□□□□\n",
      "226666□□□□ 25GJDN□□□□\n",
      "□mmLmL□□□□ 2J5Lxu□□□□\n",
      "226666□□□□ 38eCFs□□□□\n",
      "□MmmmL□□□□ 1zVvU2□□□□\n",
      "□Mmmmm□□□□ 2GJR3m□□□□\n",
      "226m66□□□□ 1ZAcce□□□□\n",
      "□mmmmm□□□□ 18RcBM□□□□\n",
      "2wmmmm□□□□ 2GzwKb□□□□\n"
     ]
    }
   ],
   "source": [
    "print(\"predict_text target_text\")\n",
    "\n",
    "for ind, (x, _, y) in enumerate(test_dataloader):\n",
    "    if ind > 10:\n",
    "        break\n",
    "    old_time = time.time()\n",
    "    predict_text, target_text = evalSample(model, x, y)\n",
    "    print(predict_text, target_text)"
   ]
  },
  {
   "cell_type": "markdown",
   "metadata": {},
   "source": [
    "# очень плохие метрики"
   ]
  }
 ],
 "metadata": {
  "accelerator": "GPU",
  "colab": {
   "gpuType": "T4",
   "provenance": []
  },
  "kernelspec": {
   "display_name": "Python 3 (ipykernel)",
   "language": "python",
   "name": "python3"
  },
  "language_info": {
   "codemirror_mode": {
    "name": "ipython",
    "version": 3
   },
   "file_extension": ".py",
   "mimetype": "text/x-python",
   "name": "python",
   "nbconvert_exporter": "python",
   "pygments_lexer": "ipython3",
   "version": "3.11.3"
  }
 },
 "nbformat": 4,
 "nbformat_minor": 4
}
